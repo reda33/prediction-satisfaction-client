{
 "cells": [
  {
   "cell_type": "markdown",
   "id": "hydraulic-potential",
   "metadata": {},
   "source": [
    "# Prédiction de la Satisfaction Client\n",
    "\n",
    "Ce projet a pour objectif de prédire la satisfaction des clients en utilisant des modèles de machine learning, afin de mieux comprendre les facteurs qui influencent la satisfaction et d'aider à l'amélioration des stratégies d'engagement client.\n",
    "\n",
    "Nous allons explorer le dataset, le préparer pour la modélisation, et utiliser plusieurs algorithmes pour évaluer leurs performances.\n",
    "\n",
    "## Les étapes clés du projet sont :\n",
    "1. **Exploration des données (EDA)** : Analyser et comprendre la structure des données.\n",
    "2. **Préparation des données** : Nettoyage et transformation des données pour la modélisation.\n",
    "3. **Modélisation avec plusieurs algorithmes** : Régression Logistique, Random Forest, et d'autres si pertinent.\n",
    "4. **Évaluation et conclusion** : Mesurer la performance des modèles et tirer des conclusions.\n"
   ]
  },
  {
   "cell_type": "markdown",
   "id": "neither-pickup",
   "metadata": {},
   "source": [
    "## 1. Charger le Dataset\n",
    "\n",
    "Dans cette étape, nous allons charger le fichier CSV contenant les données de satisfaction client en utilisant la bibliothèque `pandas`. Nous afficherons ensuite les premières lignes du dataset pour obtenir un aperçu de sa structure et vérifier que le fichier a été correctement chargé.\n"
   ]
  },
  {
   "cell_type": "code",
   "execution_count": 1,
   "id": "guided-experience",
   "metadata": {},
   "outputs": [
    {
     "name": "stdout",
     "output_type": "stream",
     "text": [
      "Dataset chargé avec succès\n"
     ]
    },
    {
     "data": {
      "text/html": [
       "<div>\n",
       "<style scoped>\n",
       "    .dataframe tbody tr th:only-of-type {\n",
       "        vertical-align: middle;\n",
       "    }\n",
       "\n",
       "    .dataframe tbody tr th {\n",
       "        vertical-align: top;\n",
       "    }\n",
       "\n",
       "    .dataframe thead th {\n",
       "        text-align: right;\n",
       "    }\n",
       "</style>\n",
       "<table border=\"1\" class=\"dataframe\">\n",
       "  <thead>\n",
       "    <tr style=\"text-align: right;\">\n",
       "      <th></th>\n",
       "      <th>ID</th>\n",
       "      <th>var3</th>\n",
       "      <th>var15</th>\n",
       "      <th>imp_ent_var16_ult1</th>\n",
       "      <th>imp_op_var39_comer_ult1</th>\n",
       "      <th>imp_op_var39_comer_ult3</th>\n",
       "      <th>imp_op_var40_comer_ult1</th>\n",
       "      <th>imp_op_var40_comer_ult3</th>\n",
       "      <th>imp_op_var40_efect_ult1</th>\n",
       "      <th>imp_op_var40_efect_ult3</th>\n",
       "      <th>...</th>\n",
       "      <th>saldo_medio_var33_hace2</th>\n",
       "      <th>saldo_medio_var33_hace3</th>\n",
       "      <th>saldo_medio_var33_ult1</th>\n",
       "      <th>saldo_medio_var33_ult3</th>\n",
       "      <th>saldo_medio_var44_hace2</th>\n",
       "      <th>saldo_medio_var44_hace3</th>\n",
       "      <th>saldo_medio_var44_ult1</th>\n",
       "      <th>saldo_medio_var44_ult3</th>\n",
       "      <th>var38</th>\n",
       "      <th>TARGET</th>\n",
       "    </tr>\n",
       "  </thead>\n",
       "  <tbody>\n",
       "    <tr>\n",
       "      <th>0</th>\n",
       "      <td>1</td>\n",
       "      <td>2</td>\n",
       "      <td>23</td>\n",
       "      <td>0.0</td>\n",
       "      <td>0.0</td>\n",
       "      <td>0.0</td>\n",
       "      <td>0.0</td>\n",
       "      <td>0.0</td>\n",
       "      <td>0.0</td>\n",
       "      <td>0.0</td>\n",
       "      <td>...</td>\n",
       "      <td>0.0</td>\n",
       "      <td>0.0</td>\n",
       "      <td>0.0</td>\n",
       "      <td>0.0</td>\n",
       "      <td>0.0</td>\n",
       "      <td>0.0</td>\n",
       "      <td>0.0</td>\n",
       "      <td>0.0</td>\n",
       "      <td>39205.170</td>\n",
       "      <td>0</td>\n",
       "    </tr>\n",
       "    <tr>\n",
       "      <th>1</th>\n",
       "      <td>3</td>\n",
       "      <td>2</td>\n",
       "      <td>34</td>\n",
       "      <td>0.0</td>\n",
       "      <td>0.0</td>\n",
       "      <td>0.0</td>\n",
       "      <td>0.0</td>\n",
       "      <td>0.0</td>\n",
       "      <td>0.0</td>\n",
       "      <td>0.0</td>\n",
       "      <td>...</td>\n",
       "      <td>0.0</td>\n",
       "      <td>0.0</td>\n",
       "      <td>0.0</td>\n",
       "      <td>0.0</td>\n",
       "      <td>0.0</td>\n",
       "      <td>0.0</td>\n",
       "      <td>0.0</td>\n",
       "      <td>0.0</td>\n",
       "      <td>49278.030</td>\n",
       "      <td>0</td>\n",
       "    </tr>\n",
       "    <tr>\n",
       "      <th>2</th>\n",
       "      <td>4</td>\n",
       "      <td>2</td>\n",
       "      <td>23</td>\n",
       "      <td>0.0</td>\n",
       "      <td>0.0</td>\n",
       "      <td>0.0</td>\n",
       "      <td>0.0</td>\n",
       "      <td>0.0</td>\n",
       "      <td>0.0</td>\n",
       "      <td>0.0</td>\n",
       "      <td>...</td>\n",
       "      <td>0.0</td>\n",
       "      <td>0.0</td>\n",
       "      <td>0.0</td>\n",
       "      <td>0.0</td>\n",
       "      <td>0.0</td>\n",
       "      <td>0.0</td>\n",
       "      <td>0.0</td>\n",
       "      <td>0.0</td>\n",
       "      <td>67333.770</td>\n",
       "      <td>0</td>\n",
       "    </tr>\n",
       "    <tr>\n",
       "      <th>3</th>\n",
       "      <td>8</td>\n",
       "      <td>2</td>\n",
       "      <td>37</td>\n",
       "      <td>0.0</td>\n",
       "      <td>195.0</td>\n",
       "      <td>195.0</td>\n",
       "      <td>0.0</td>\n",
       "      <td>0.0</td>\n",
       "      <td>0.0</td>\n",
       "      <td>0.0</td>\n",
       "      <td>...</td>\n",
       "      <td>0.0</td>\n",
       "      <td>0.0</td>\n",
       "      <td>0.0</td>\n",
       "      <td>0.0</td>\n",
       "      <td>0.0</td>\n",
       "      <td>0.0</td>\n",
       "      <td>0.0</td>\n",
       "      <td>0.0</td>\n",
       "      <td>64007.970</td>\n",
       "      <td>0</td>\n",
       "    </tr>\n",
       "    <tr>\n",
       "      <th>4</th>\n",
       "      <td>10</td>\n",
       "      <td>2</td>\n",
       "      <td>39</td>\n",
       "      <td>0.0</td>\n",
       "      <td>0.0</td>\n",
       "      <td>0.0</td>\n",
       "      <td>0.0</td>\n",
       "      <td>0.0</td>\n",
       "      <td>0.0</td>\n",
       "      <td>0.0</td>\n",
       "      <td>...</td>\n",
       "      <td>0.0</td>\n",
       "      <td>0.0</td>\n",
       "      <td>0.0</td>\n",
       "      <td>0.0</td>\n",
       "      <td>0.0</td>\n",
       "      <td>0.0</td>\n",
       "      <td>0.0</td>\n",
       "      <td>0.0</td>\n",
       "      <td>117310.979</td>\n",
       "      <td>0</td>\n",
       "    </tr>\n",
       "  </tbody>\n",
       "</table>\n",
       "<p>5 rows × 371 columns</p>\n",
       "</div>"
      ],
      "text/plain": [
       "   ID  var3  var15  imp_ent_var16_ult1  imp_op_var39_comer_ult1  \\\n",
       "0   1     2     23                 0.0                      0.0   \n",
       "1   3     2     34                 0.0                      0.0   \n",
       "2   4     2     23                 0.0                      0.0   \n",
       "3   8     2     37                 0.0                    195.0   \n",
       "4  10     2     39                 0.0                      0.0   \n",
       "\n",
       "   imp_op_var39_comer_ult3  imp_op_var40_comer_ult1  imp_op_var40_comer_ult3  \\\n",
       "0                      0.0                      0.0                      0.0   \n",
       "1                      0.0                      0.0                      0.0   \n",
       "2                      0.0                      0.0                      0.0   \n",
       "3                    195.0                      0.0                      0.0   \n",
       "4                      0.0                      0.0                      0.0   \n",
       "\n",
       "   imp_op_var40_efect_ult1  imp_op_var40_efect_ult3  ...  \\\n",
       "0                      0.0                      0.0  ...   \n",
       "1                      0.0                      0.0  ...   \n",
       "2                      0.0                      0.0  ...   \n",
       "3                      0.0                      0.0  ...   \n",
       "4                      0.0                      0.0  ...   \n",
       "\n",
       "   saldo_medio_var33_hace2  saldo_medio_var33_hace3  saldo_medio_var33_ult1  \\\n",
       "0                      0.0                      0.0                     0.0   \n",
       "1                      0.0                      0.0                     0.0   \n",
       "2                      0.0                      0.0                     0.0   \n",
       "3                      0.0                      0.0                     0.0   \n",
       "4                      0.0                      0.0                     0.0   \n",
       "\n",
       "   saldo_medio_var33_ult3  saldo_medio_var44_hace2  saldo_medio_var44_hace3  \\\n",
       "0                     0.0                      0.0                      0.0   \n",
       "1                     0.0                      0.0                      0.0   \n",
       "2                     0.0                      0.0                      0.0   \n",
       "3                     0.0                      0.0                      0.0   \n",
       "4                     0.0                      0.0                      0.0   \n",
       "\n",
       "   saldo_medio_var44_ult1  saldo_medio_var44_ult3       var38  TARGET  \n",
       "0                     0.0                     0.0   39205.170       0  \n",
       "1                     0.0                     0.0   49278.030       0  \n",
       "2                     0.0                     0.0   67333.770       0  \n",
       "3                     0.0                     0.0   64007.970       0  \n",
       "4                     0.0                     0.0  117310.979       0  \n",
       "\n",
       "[5 rows x 371 columns]"
      ]
     },
     "execution_count": 1,
     "metadata": {},
     "output_type": "execute_result"
    }
   ],
   "source": [
    "import pandas as pd\n",
    "\n",
    "# Charger les données\n",
    "try:\n",
    "    data = pd.read_csv('Santander Customer Satisfaction - TRAIN.csv')\n",
    "    print(\"Dataset chargé avec succès\")\n",
    "except FileNotFoundError:\n",
    "    print(\"Erreur : Le fichier n'a pas été trouvé. Vérifiez le chemin du fichier.\")\n",
    "    \n",
    "# Afficher les premières lignes du dataset\n",
    "data.head()\n"
   ]
  },
  {
   "cell_type": "markdown",
   "id": "measured-bernard",
   "metadata": {},
   "source": [
    "## 2. Informations sur le Dataset\n",
    "\n",
    "Dans cette étape, nous allons examiner la structure générale du dataset pour mieux comprendre sa composition. Nous allons notamment :\n",
    "- Vérifier le nombre de lignes et de colonnes.\n",
    "- Obtenir des informations sur les types de données dans chaque colonne.\n",
    "- Rechercher des valeurs manquantes qui pourraient nécessiter un traitement avant la modélisation.\n",
    "\n"
   ]
  },
  {
   "cell_type": "code",
   "execution_count": 2,
   "id": "agreed-annex",
   "metadata": {},
   "outputs": [
    {
     "name": "stdout",
     "output_type": "stream",
     "text": [
      "Dimensions du dataset: (76020, 371)\n"
     ]
    }
   ],
   "source": [
    "# Afficher les dimensions du dataset (lignes, colonnes)\n",
    "print(f\"Dimensions du dataset: {data.shape}\")\n"
   ]
  },
  {
   "cell_type": "markdown",
   "id": "hearing-strain",
   "metadata": {},
   "source": [
    "### Types de données dans le Dataset\n",
    "\n",
    "Nous allons maintenant examiner les types de données dans chaque colonne et vérifier combien de valeurs manquantes il y a dans chaque colonne. Cela nous aidera à identifier les colonnes qui nécessitent une attention particulière lors du prétraitement.\n"
   ]
  },
  {
   "cell_type": "code",
   "execution_count": 3,
   "id": "sunset-lotus",
   "metadata": {},
   "outputs": [
    {
     "name": "stdout",
     "output_type": "stream",
     "text": [
      "<class 'pandas.core.frame.DataFrame'>\n",
      "RangeIndex: 76020 entries, 0 to 76019\n",
      "Columns: 371 entries, ID to TARGET\n",
      "dtypes: float64(111), int64(260)\n",
      "memory usage: 215.2 MB\n",
      "Valeurs manquantes par colonne:\n",
      "Series([], dtype: int64)\n"
     ]
    }
   ],
   "source": [
    "# Afficher les informations sur les types de données et les colonnes\n",
    "data.info()\n",
    "\n",
    "# Vérification des valeurs manquantes dans chaque colonne\n",
    "missing_values = data.isnull().sum()\n",
    "print(\"Valeurs manquantes par colonne:\")\n",
    "print(missing_values[missing_values > 0])\n"
   ]
  },
  {
   "cell_type": "markdown",
   "id": "floral-discretion",
   "metadata": {},
   "source": [
    "### Conclusion sur les informations du dataset\n",
    "\n",
    "Le dataset contient 76,020 lignes et 371 colonnes, sans valeurs manquantes. Nous avons des colonnes numériques de type `int64` et `float64`, ce qui est compatible avec les algorithmes de machine learning. Il n'y a pas de valeurs manquantes dans les données, ce qui simplifie le prétraitement. \n",
    "\n",
    "Nous allons maintenant vérifier les doublons et les colonnes avec des valeurs uniques avant de passer à l'étape de préparation des données.\n"
   ]
  },
  {
   "cell_type": "code",
   "execution_count": 4,
   "id": "institutional-accessory",
   "metadata": {},
   "outputs": [
    {
     "name": "stdout",
     "output_type": "stream",
     "text": [
      "Nombre de lignes dupliquées: 0\n"
     ]
    }
   ],
   "source": [
    "duplicate_rows = data.duplicated().sum()\n",
    "print(f\"Nombre de lignes dupliquées: {duplicate_rows}\")"
   ]
  },
  {
   "cell_type": "code",
   "execution_count": 5,
   "id": "innovative-vegetarian",
   "metadata": {},
   "outputs": [
    {
     "name": "stdout",
     "output_type": "stream",
     "text": [
      "Colonnes avec une seule valeur:\n",
      "ind_var2_0                       1\n",
      "ind_var2                         1\n",
      "ind_var27_0                      1\n",
      "ind_var28_0                      1\n",
      "ind_var28                        1\n",
      "ind_var27                        1\n",
      "ind_var41                        1\n",
      "ind_var46_0                      1\n",
      "ind_var46                        1\n",
      "num_var27_0                      1\n",
      "num_var28_0                      1\n",
      "num_var28                        1\n",
      "num_var27                        1\n",
      "num_var41                        1\n",
      "num_var46_0                      1\n",
      "num_var46                        1\n",
      "saldo_var28                      1\n",
      "saldo_var27                      1\n",
      "saldo_var41                      1\n",
      "saldo_var46                      1\n",
      "imp_amort_var18_hace3            1\n",
      "imp_amort_var34_hace3            1\n",
      "imp_reemb_var13_hace3            1\n",
      "imp_reemb_var33_hace3            1\n",
      "imp_trasp_var17_out_hace3        1\n",
      "imp_trasp_var33_out_hace3        1\n",
      "num_var2_0_ult1                  1\n",
      "num_var2_ult1                    1\n",
      "num_reemb_var13_hace3            1\n",
      "num_reemb_var33_hace3            1\n",
      "num_trasp_var17_out_hace3        1\n",
      "num_trasp_var33_out_hace3        1\n",
      "saldo_var2_ult1                  1\n",
      "saldo_medio_var13_medio_hace3    1\n",
      "dtype: int64\n"
     ]
    }
   ],
   "source": [
    "unique_counts = data.nunique()\n",
    "print(\"Colonnes avec une seule valeur:\")\n",
    "print(unique_counts[unique_counts == 1])\n"
   ]
  },
  {
   "cell_type": "code",
   "execution_count": 6,
   "id": "likely-basement",
   "metadata": {},
   "outputs": [
    {
     "name": "stdout",
     "output_type": "stream",
     "text": [
      "Nombre de colonnes après suppression : 337\n"
     ]
    }
   ],
   "source": [
    "# Identification des colonnes à supprimer\n",
    "cols_to_drop = unique_counts[unique_counts == 1].index\n",
    "\n",
    "# Suppression des colonnes\n",
    "data_cleaned = data.drop(columns=cols_to_drop)\n",
    "\n",
    "print(f\"Nombre de colonnes après suppression : {data_cleaned.shape[1]}\")\n"
   ]
  },
  {
   "cell_type": "markdown",
   "id": "documentary-program",
   "metadata": {},
   "source": [
    "### Conclusion sur les doublons et les colonnes avec une seule valeur\n",
    "\n",
    "- Il n'y a pas de lignes dupliquées dans le dataset, donc aucune suppression n'est nécessaire à ce niveau.\n",
    "- Plusieurs colonnes ne contiennent qu'une seule valeur, ce qui les rend inutiles pour la modélisation. Ces colonnes ont été supprimées pour simplifier l'analyse. \n",
    "\n",
    "Nous allons maintenant passer à l'étape de **préparation des données**, où nous traiterons les transformations nécessaires avant la modélisation.\n"
   ]
  },
  {
   "cell_type": "markdown",
   "id": "sound-enlargement",
   "metadata": {},
   "source": [
    "## 3. Statistiques Descriptives\n",
    "\n",
    "j'afficherai des statistiques descriptives des variables numériques pour comprendre leur distribution, les moyennes, les écarts-types, et les valeurs minimales/maximales.\n"
   ]
  },
  {
   "cell_type": "code",
   "execution_count": 7,
   "id": "sufficient-animal",
   "metadata": {},
   "outputs": [
    {
     "data": {
      "text/html": [
       "<div>\n",
       "<style scoped>\n",
       "    .dataframe tbody tr th:only-of-type {\n",
       "        vertical-align: middle;\n",
       "    }\n",
       "\n",
       "    .dataframe tbody tr th {\n",
       "        vertical-align: top;\n",
       "    }\n",
       "\n",
       "    .dataframe thead th {\n",
       "        text-align: right;\n",
       "    }\n",
       "</style>\n",
       "<table border=\"1\" class=\"dataframe\">\n",
       "  <thead>\n",
       "    <tr style=\"text-align: right;\">\n",
       "      <th></th>\n",
       "      <th>ID</th>\n",
       "      <th>var3</th>\n",
       "      <th>var15</th>\n",
       "      <th>imp_ent_var16_ult1</th>\n",
       "      <th>imp_op_var39_comer_ult1</th>\n",
       "      <th>imp_op_var39_comer_ult3</th>\n",
       "      <th>imp_op_var40_comer_ult1</th>\n",
       "      <th>imp_op_var40_comer_ult3</th>\n",
       "      <th>imp_op_var40_efect_ult1</th>\n",
       "      <th>imp_op_var40_efect_ult3</th>\n",
       "      <th>...</th>\n",
       "      <th>saldo_medio_var33_hace2</th>\n",
       "      <th>saldo_medio_var33_hace3</th>\n",
       "      <th>saldo_medio_var33_ult1</th>\n",
       "      <th>saldo_medio_var33_ult3</th>\n",
       "      <th>saldo_medio_var44_hace2</th>\n",
       "      <th>saldo_medio_var44_hace3</th>\n",
       "      <th>saldo_medio_var44_ult1</th>\n",
       "      <th>saldo_medio_var44_ult3</th>\n",
       "      <th>var38</th>\n",
       "      <th>TARGET</th>\n",
       "    </tr>\n",
       "  </thead>\n",
       "  <tbody>\n",
       "    <tr>\n",
       "      <th>count</th>\n",
       "      <td>76020.000000</td>\n",
       "      <td>76020.000000</td>\n",
       "      <td>76020.000000</td>\n",
       "      <td>76020.000000</td>\n",
       "      <td>76020.000000</td>\n",
       "      <td>76020.000000</td>\n",
       "      <td>76020.000000</td>\n",
       "      <td>76020.000000</td>\n",
       "      <td>76020.000000</td>\n",
       "      <td>76020.000000</td>\n",
       "      <td>...</td>\n",
       "      <td>76020.000000</td>\n",
       "      <td>76020.000000</td>\n",
       "      <td>76020.000000</td>\n",
       "      <td>76020.000000</td>\n",
       "      <td>76020.000000</td>\n",
       "      <td>76020.000000</td>\n",
       "      <td>76020.000000</td>\n",
       "      <td>76020.000000</td>\n",
       "      <td>7.602000e+04</td>\n",
       "      <td>76020.000000</td>\n",
       "    </tr>\n",
       "    <tr>\n",
       "      <th>mean</th>\n",
       "      <td>75964.050723</td>\n",
       "      <td>-1523.199277</td>\n",
       "      <td>33.212865</td>\n",
       "      <td>86.208265</td>\n",
       "      <td>72.363067</td>\n",
       "      <td>119.529632</td>\n",
       "      <td>3.559130</td>\n",
       "      <td>6.472698</td>\n",
       "      <td>0.412946</td>\n",
       "      <td>0.567352</td>\n",
       "      <td>...</td>\n",
       "      <td>7.935824</td>\n",
       "      <td>1.365146</td>\n",
       "      <td>12.215580</td>\n",
       "      <td>8.784074</td>\n",
       "      <td>31.505324</td>\n",
       "      <td>1.858575</td>\n",
       "      <td>76.026165</td>\n",
       "      <td>56.614351</td>\n",
       "      <td>1.172358e+05</td>\n",
       "      <td>0.039569</td>\n",
       "    </tr>\n",
       "    <tr>\n",
       "      <th>std</th>\n",
       "      <td>43781.947379</td>\n",
       "      <td>39033.462364</td>\n",
       "      <td>12.956486</td>\n",
       "      <td>1614.757313</td>\n",
       "      <td>339.315831</td>\n",
       "      <td>546.266294</td>\n",
       "      <td>93.155749</td>\n",
       "      <td>153.737066</td>\n",
       "      <td>30.604864</td>\n",
       "      <td>36.513513</td>\n",
       "      <td>...</td>\n",
       "      <td>455.887218</td>\n",
       "      <td>113.959637</td>\n",
       "      <td>783.207399</td>\n",
       "      <td>538.439211</td>\n",
       "      <td>2013.125393</td>\n",
       "      <td>147.786584</td>\n",
       "      <td>4040.337842</td>\n",
       "      <td>2852.579397</td>\n",
       "      <td>1.826646e+05</td>\n",
       "      <td>0.194945</td>\n",
       "    </tr>\n",
       "    <tr>\n",
       "      <th>min</th>\n",
       "      <td>1.000000</td>\n",
       "      <td>-999999.000000</td>\n",
       "      <td>5.000000</td>\n",
       "      <td>0.000000</td>\n",
       "      <td>0.000000</td>\n",
       "      <td>0.000000</td>\n",
       "      <td>0.000000</td>\n",
       "      <td>0.000000</td>\n",
       "      <td>0.000000</td>\n",
       "      <td>0.000000</td>\n",
       "      <td>...</td>\n",
       "      <td>0.000000</td>\n",
       "      <td>0.000000</td>\n",
       "      <td>0.000000</td>\n",
       "      <td>0.000000</td>\n",
       "      <td>0.000000</td>\n",
       "      <td>0.000000</td>\n",
       "      <td>0.000000</td>\n",
       "      <td>0.000000</td>\n",
       "      <td>5.163750e+03</td>\n",
       "      <td>0.000000</td>\n",
       "    </tr>\n",
       "    <tr>\n",
       "      <th>25%</th>\n",
       "      <td>38104.750000</td>\n",
       "      <td>2.000000</td>\n",
       "      <td>23.000000</td>\n",
       "      <td>0.000000</td>\n",
       "      <td>0.000000</td>\n",
       "      <td>0.000000</td>\n",
       "      <td>0.000000</td>\n",
       "      <td>0.000000</td>\n",
       "      <td>0.000000</td>\n",
       "      <td>0.000000</td>\n",
       "      <td>...</td>\n",
       "      <td>0.000000</td>\n",
       "      <td>0.000000</td>\n",
       "      <td>0.000000</td>\n",
       "      <td>0.000000</td>\n",
       "      <td>0.000000</td>\n",
       "      <td>0.000000</td>\n",
       "      <td>0.000000</td>\n",
       "      <td>0.000000</td>\n",
       "      <td>6.787061e+04</td>\n",
       "      <td>0.000000</td>\n",
       "    </tr>\n",
       "    <tr>\n",
       "      <th>50%</th>\n",
       "      <td>76043.000000</td>\n",
       "      <td>2.000000</td>\n",
       "      <td>28.000000</td>\n",
       "      <td>0.000000</td>\n",
       "      <td>0.000000</td>\n",
       "      <td>0.000000</td>\n",
       "      <td>0.000000</td>\n",
       "      <td>0.000000</td>\n",
       "      <td>0.000000</td>\n",
       "      <td>0.000000</td>\n",
       "      <td>...</td>\n",
       "      <td>0.000000</td>\n",
       "      <td>0.000000</td>\n",
       "      <td>0.000000</td>\n",
       "      <td>0.000000</td>\n",
       "      <td>0.000000</td>\n",
       "      <td>0.000000</td>\n",
       "      <td>0.000000</td>\n",
       "      <td>0.000000</td>\n",
       "      <td>1.064092e+05</td>\n",
       "      <td>0.000000</td>\n",
       "    </tr>\n",
       "    <tr>\n",
       "      <th>75%</th>\n",
       "      <td>113748.750000</td>\n",
       "      <td>2.000000</td>\n",
       "      <td>40.000000</td>\n",
       "      <td>0.000000</td>\n",
       "      <td>0.000000</td>\n",
       "      <td>0.000000</td>\n",
       "      <td>0.000000</td>\n",
       "      <td>0.000000</td>\n",
       "      <td>0.000000</td>\n",
       "      <td>0.000000</td>\n",
       "      <td>...</td>\n",
       "      <td>0.000000</td>\n",
       "      <td>0.000000</td>\n",
       "      <td>0.000000</td>\n",
       "      <td>0.000000</td>\n",
       "      <td>0.000000</td>\n",
       "      <td>0.000000</td>\n",
       "      <td>0.000000</td>\n",
       "      <td>0.000000</td>\n",
       "      <td>1.187563e+05</td>\n",
       "      <td>0.000000</td>\n",
       "    </tr>\n",
       "    <tr>\n",
       "      <th>max</th>\n",
       "      <td>151838.000000</td>\n",
       "      <td>238.000000</td>\n",
       "      <td>105.000000</td>\n",
       "      <td>210000.000000</td>\n",
       "      <td>12888.030000</td>\n",
       "      <td>21024.810000</td>\n",
       "      <td>8237.820000</td>\n",
       "      <td>11073.570000</td>\n",
       "      <td>6600.000000</td>\n",
       "      <td>6600.000000</td>\n",
       "      <td>...</td>\n",
       "      <td>50003.880000</td>\n",
       "      <td>20385.720000</td>\n",
       "      <td>138831.630000</td>\n",
       "      <td>91778.730000</td>\n",
       "      <td>438329.220000</td>\n",
       "      <td>24650.010000</td>\n",
       "      <td>681462.900000</td>\n",
       "      <td>397884.300000</td>\n",
       "      <td>2.203474e+07</td>\n",
       "      <td>1.000000</td>\n",
       "    </tr>\n",
       "  </tbody>\n",
       "</table>\n",
       "<p>8 rows × 337 columns</p>\n",
       "</div>"
      ],
      "text/plain": [
       "                  ID           var3         var15  imp_ent_var16_ult1  \\\n",
       "count   76020.000000   76020.000000  76020.000000        76020.000000   \n",
       "mean    75964.050723   -1523.199277     33.212865           86.208265   \n",
       "std     43781.947379   39033.462364     12.956486         1614.757313   \n",
       "min         1.000000 -999999.000000      5.000000            0.000000   \n",
       "25%     38104.750000       2.000000     23.000000            0.000000   \n",
       "50%     76043.000000       2.000000     28.000000            0.000000   \n",
       "75%    113748.750000       2.000000     40.000000            0.000000   \n",
       "max    151838.000000     238.000000    105.000000       210000.000000   \n",
       "\n",
       "       imp_op_var39_comer_ult1  imp_op_var39_comer_ult3  \\\n",
       "count             76020.000000             76020.000000   \n",
       "mean                 72.363067               119.529632   \n",
       "std                 339.315831               546.266294   \n",
       "min                   0.000000                 0.000000   \n",
       "25%                   0.000000                 0.000000   \n",
       "50%                   0.000000                 0.000000   \n",
       "75%                   0.000000                 0.000000   \n",
       "max               12888.030000             21024.810000   \n",
       "\n",
       "       imp_op_var40_comer_ult1  imp_op_var40_comer_ult3  \\\n",
       "count             76020.000000             76020.000000   \n",
       "mean                  3.559130                 6.472698   \n",
       "std                  93.155749               153.737066   \n",
       "min                   0.000000                 0.000000   \n",
       "25%                   0.000000                 0.000000   \n",
       "50%                   0.000000                 0.000000   \n",
       "75%                   0.000000                 0.000000   \n",
       "max                8237.820000             11073.570000   \n",
       "\n",
       "       imp_op_var40_efect_ult1  imp_op_var40_efect_ult3  ...  \\\n",
       "count             76020.000000             76020.000000  ...   \n",
       "mean                  0.412946                 0.567352  ...   \n",
       "std                  30.604864                36.513513  ...   \n",
       "min                   0.000000                 0.000000  ...   \n",
       "25%                   0.000000                 0.000000  ...   \n",
       "50%                   0.000000                 0.000000  ...   \n",
       "75%                   0.000000                 0.000000  ...   \n",
       "max                6600.000000              6600.000000  ...   \n",
       "\n",
       "       saldo_medio_var33_hace2  saldo_medio_var33_hace3  \\\n",
       "count             76020.000000             76020.000000   \n",
       "mean                  7.935824                 1.365146   \n",
       "std                 455.887218               113.959637   \n",
       "min                   0.000000                 0.000000   \n",
       "25%                   0.000000                 0.000000   \n",
       "50%                   0.000000                 0.000000   \n",
       "75%                   0.000000                 0.000000   \n",
       "max               50003.880000             20385.720000   \n",
       "\n",
       "       saldo_medio_var33_ult1  saldo_medio_var33_ult3  \\\n",
       "count            76020.000000            76020.000000   \n",
       "mean                12.215580                8.784074   \n",
       "std                783.207399              538.439211   \n",
       "min                  0.000000                0.000000   \n",
       "25%                  0.000000                0.000000   \n",
       "50%                  0.000000                0.000000   \n",
       "75%                  0.000000                0.000000   \n",
       "max             138831.630000            91778.730000   \n",
       "\n",
       "       saldo_medio_var44_hace2  saldo_medio_var44_hace3  \\\n",
       "count             76020.000000             76020.000000   \n",
       "mean                 31.505324                 1.858575   \n",
       "std                2013.125393               147.786584   \n",
       "min                   0.000000                 0.000000   \n",
       "25%                   0.000000                 0.000000   \n",
       "50%                   0.000000                 0.000000   \n",
       "75%                   0.000000                 0.000000   \n",
       "max              438329.220000             24650.010000   \n",
       "\n",
       "       saldo_medio_var44_ult1  saldo_medio_var44_ult3         var38  \\\n",
       "count            76020.000000            76020.000000  7.602000e+04   \n",
       "mean                76.026165               56.614351  1.172358e+05   \n",
       "std               4040.337842             2852.579397  1.826646e+05   \n",
       "min                  0.000000                0.000000  5.163750e+03   \n",
       "25%                  0.000000                0.000000  6.787061e+04   \n",
       "50%                  0.000000                0.000000  1.064092e+05   \n",
       "75%                  0.000000                0.000000  1.187563e+05   \n",
       "max             681462.900000           397884.300000  2.203474e+07   \n",
       "\n",
       "             TARGET  \n",
       "count  76020.000000  \n",
       "mean       0.039569  \n",
       "std        0.194945  \n",
       "min        0.000000  \n",
       "25%        0.000000  \n",
       "50%        0.000000  \n",
       "75%        0.000000  \n",
       "max        1.000000  \n",
       "\n",
       "[8 rows x 337 columns]"
      ]
     },
     "execution_count": 7,
     "metadata": {},
     "output_type": "execute_result"
    }
   ],
   "source": [
    "# Statistiques descriptives pour les variables numériques\n",
    "data_cleaned.describe()"
   ]
  },
  {
   "cell_type": "markdown",
   "id": "separate-chamber",
   "metadata": {},
   "source": [
    "### Conclusion des Statistiques Descriptives\n",
    "\n",
    "- Le dataset contient 76 020 lignes, et les colonnes affichées par `.describe()` ne contiennent pas de valeurs manquantes, ce qui est un bon indicateur de la qualité des données.\n",
    "- Certaines colonnes, comme `var3`, présentent des valeurs aberrantes (par exemple, `-999999`), qui pourraient représenter des erreurs de saisie ou des valeurs manquantes mal codées. Ces colonnes devront être nettoyées avant de procéder à la modélisation.\n",
    "- Les écarts-types importants dans certaines colonnes (par exemple, `var3`) indiquent une forte dispersion des données, ce qui pourrait nécessiter une normalisation ou standardisation pour que les algorithmes de machine learning puissent mieux performer.\n",
    "- La colonne cible (`TARGET`) présente une distribution binaire (`0` et `1`), ce qui est conforme à un problème de classification binaire.\n",
    "  "
   ]
  },
  {
   "cell_type": "code",
   "execution_count": 8,
   "id": "residential-longer",
   "metadata": {},
   "outputs": [],
   "source": [
    "# Afficher la répartition des valeurs pour les colonnes catégorielles\n",
    "for col in data_cleaned.select_dtypes(include=['object']).columns:\n",
    "    print(f\"Répartition pour {col} :\")\n",
    "    print(data_cleaned[col].value_counts())\n",
    "    print(\"\\n\")\n"
   ]
  },
  {
   "cell_type": "markdown",
   "id": "bridal-retreat",
   "metadata": {},
   "source": [
    "### Vérification des valeurs aberrantes (Outliers)\n",
    "\n",
    "Dans cette étape, nous allons utiliser des boîtes (boxplots) pour identifier les valeurs aberrantes dans les colonnes numériques. Les valeurs éloignées de la distribution normale peuvent affecter les modèles de machine learning, il est donc important de les identifier.\n"
   ]
  },
  {
   "cell_type": "code",
   "execution_count": 9,
   "id": "similar-survival",
   "metadata": {},
   "outputs": [
    {
     "data": {
      "image/png": "[encoded data removed]",
      "text/plain": [
       "<Figure size 720x432 with 1 Axes>"
      ]
     },
     "metadata": {
      "needs_background": "light"
     },
     "output_type": "display_data"
    }
   ],
   "source": [
    "import seaborn as sns\n",
    "import matplotlib.pyplot as plt\n",
    "\n",
    "# Exemple avec la colonne var3 pour visualiser les valeurs aberrantes\n",
    "plt.figure(figsize=(10, 6))\n",
    "sns.boxplot(x=data_cleaned['var3'])\n",
    "plt.title(\"Boxplot de la colonne var3 pour détecter les valeurs aberrantes\")\n",
    "plt.show()\n",
    "\n"
   ]
  },
  {
   "cell_type": "markdown",
   "id": "designed-documentation",
   "metadata": {},
   "source": [
    "### Traitement des valeurs aberrantes pour `var3`\n",
    "\n",
    "Pour gérer les valeurs aberrantes dans la colonne `var3`, nous remplacerons les valeurs extrêmement négatives qui sont probablement des erreurs ou des valeurs de remplissage par la médiane des autres valeurs. Nous conserverons les valeurs élevées, car elles peuvent être des observations valides.\n"
   ]
  },
  {
   "cell_type": "code",
   "execution_count": 10,
   "id": "inappropriate-grounds",
   "metadata": {},
   "outputs": [
    {
     "name": "stdout",
     "output_type": "stream",
     "text": [
      "La médiane calculée pour 'var3' est : 2.0\n"
     ]
    },
    {
     "data": {
      "text/plain": [
       "count    76020.000000\n",
       "mean         2.716483\n",
       "std          9.447971\n",
       "min          0.000000\n",
       "25%          2.000000\n",
       "50%          2.000000\n",
       "75%          2.000000\n",
       "max        238.000000\n",
       "Name: var3, dtype: float64"
      ]
     },
     "execution_count": 10,
     "metadata": {},
     "output_type": "execute_result"
    }
   ],
   "source": [
    "# Calcul de la médiane sans prendre en compte les valeurs extrêmes négatives\n",
    "median_var3 = data_cleaned.loc[data_cleaned['var3'] > -999999, 'var3'].median()\n",
    "\n",
    "# Remplacement des valeurs extrêmes négatives par la médiane\n",
    "data_cleaned['var3'].replace(to_replace=-999999, value=median_var3, inplace=True)\n",
    "\n",
    "# Affichage pour vérification\n",
    "print(f\"La médiane calculée pour 'var3' est : {median_var3}\")\n",
    "data_cleaned['var3'].describe()\n"
   ]
  },
  {
   "cell_type": "code",
   "execution_count": 11,
   "id": "unlike-somerset",
   "metadata": {},
   "outputs": [
    {
     "data": {
      "image/png": "[encoded data removed]",
      "text/plain": [
       "<Figure size 720x432 with 1 Axes>"
      ]
     },
     "metadata": {
      "needs_background": "light"
     },
     "output_type": "display_data"
    }
   ],
   "source": [
    "# Boxplot de 'var3' après le traitement des valeurs aberrantes\n",
    "plt.figure(figsize=(10, 6))\n",
    "sns.boxplot(x=data_cleaned['var3'])\n",
    "plt.title(\"Boxplot de la colonne var3 après traitement des valeurs aberrantes\")\n",
    "plt.show()\n"
   ]
  },
  {
   "cell_type": "markdown",
   "id": "specific-repository",
   "metadata": {},
   "source": [
    "### Visualisation de la distribution des variables numériques\n",
    "\n",
    "Nous allons maintenant visualiser la distribution des variables numériques en utilisant des histogrammes. Cela nous permettra de vérifier si les données sont normalement distribuées ou s'il y a des asymétries dans la répartition des valeurs.\n"
   ]
  },
  {
   "cell_type": "code",
   "execution_count": 12,
   "id": "residential-picnic",
   "metadata": {},
   "outputs": [
    {
     "data": {
      "image/png": "[encoded data removed]",
      "text/plain": [
       "<Figure size 432x288 with 1 Axes>"
      ]
     },
     "metadata": {
      "needs_background": "light"
     },
     "output_type": "display_data"
    }
   ],
   "source": [
    "# Visualisation de la distribution de la colonne var3\n",
    "data_cleaned['var3'].hist(bins=30)\n",
    "plt.title(\"Distribution de la colonne var3\")\n",
    "plt.xlabel(\"Valeurs\")\n",
    "plt.ylabel(\"Fréquence\")\n",
    "plt.show()\n"
   ]
  },
  {
   "cell_type": "markdown",
   "id": "dutch-salem",
   "metadata": {},
   "source": [
    "### Analyse de la Skewness (Asymétrie) et de la Kurtosis (Aplatissement)\n",
    "\n",
    "Nous allons maintenant calculer la skewness (asymétrie) et la kurtosis (aplatissement) des variables numériques. Une forte asymétrie peut indiquer des valeurs aberrantes, et une kurtosis élevée peut montrer la présence de valeurs très éloignées de la moyenne.\n"
   ]
  },
  {
   "cell_type": "code",
   "execution_count": 13,
   "id": "arranged-little",
   "metadata": {},
   "outputs": [
    {
     "name": "stdout",
     "output_type": "stream",
     "text": [
      "Skewness des variables :\n",
      "ID                          -0.001998\n",
      "var3                        16.881007\n",
      "var15                        1.578367\n",
      "imp_ent_var16_ult1          67.267512\n",
      "imp_op_var39_comer_ult1      9.454298\n",
      "                              ...    \n",
      "saldo_medio_var44_hace3    120.067707\n",
      "saldo_medio_var44_ult1     104.133358\n",
      "saldo_medio_var44_ult3      93.956775\n",
      "var38                       51.274532\n",
      "TARGET                       4.723842\n",
      "Length: 337, dtype: float64\n",
      "\n",
      "Kurtosis des variables :\n",
      "ID                            -1.197633\n",
      "var3                         306.080942\n",
      "var15                          2.519919\n",
      "imp_ent_var16_ult1          6321.435132\n",
      "imp_op_var39_comer_ult1      145.398198\n",
      "                               ...     \n",
      "saldo_medio_var44_hace3    16768.183173\n",
      "saldo_medio_var44_ult1     13897.745166\n",
      "saldo_medio_var44_ult3     10842.213607\n",
      "var38                       4219.873445\n",
      "TARGET                        20.315220\n",
      "Length: 337, dtype: float64\n"
     ]
    }
   ],
   "source": [
    "# Calcul de la skewness et de la kurtosis\n",
    "skewness = data_cleaned.skew()\n",
    "kurtosis = data_cleaned.kurt()\n",
    "\n",
    "print(\"Skewness des variables :\")\n",
    "print(skewness)\n",
    "\n",
    "print(\"\\nKurtosis des variables :\")\n",
    "print(kurtosis)\n"
   ]
  },
  {
   "cell_type": "markdown",
   "id": "pressed-mongolia",
   "metadata": {},
   "source": [
    "### Application d'une transformation logarithmique\n",
    "\n",
    "Pour atténuer l'impact de l'asymétrie et des valeurs aberrantes, nous appliquerons une transformation logarithmique aux variables avec une skewness élevée.\n"
   ]
  },
  {
   "cell_type": "code",
   "execution_count": 14,
   "id": "modified-regular",
   "metadata": {},
   "outputs": [
    {
     "data": {
      "image/png": "[encoded data removed]",
      "text/plain": [
       "<Figure size 432x288 with 1 Axes>"
      ]
     },
     "metadata": {
      "needs_background": "light"
     },
     "output_type": "display_data"
    }
   ],
   "source": [
    "import numpy as np\n",
    "\n",
    "# Application de la transformation logarithmique à 'var3' en ajoutant 1 pour éviter le log de zéro\n",
    "data_cleaned['var3_log'] = np.log(data_cleaned['var3'] + 1 - data_cleaned['var3'].min())\n",
    "\n",
    "# Visualisation de la distribution après transformation\n",
    "data_cleaned['var3_log'].hist(bins=30)\n",
    "plt.title(\"Distribution de 'var3' après transformation logarithmique\")\n",
    "plt.xlabel(\"Valeurs\")\n",
    "plt.ylabel(\"Fréquence\")\n",
    "plt.show()\n"
   ]
  },
  {
   "cell_type": "markdown",
   "id": "invisible-villa",
   "metadata": {},
   "source": [
    "### Préparation des données \n"
   ]
  },
  {
   "cell_type": "markdown",
   "id": "colored-reaction",
   "metadata": {},
   "source": [
    "## 4. Vérification des Valeurs Manquantes\n",
    "Nous allons maintenant examiner le dataset pour identifier et traiter les valeurs manquantes, en utilisant l'imputation ou la suppression, selon le contexte.\n"
   ]
  },
  {
   "cell_type": "code",
   "execution_count": 15,
   "id": "latter-chick",
   "metadata": {},
   "outputs": [],
   "source": [
    "# Imputation des valeurs manquantes par la médiane\n",
    "data_cleaned.fillna(data_cleaned.median(), inplace=True)\n",
    "\n"
   ]
  },
  {
   "cell_type": "markdown",
   "id": "likely-powder",
   "metadata": {},
   "source": [
    "### Encodage des variables catégorielles\n",
    "\n",
    "Pour préparer notre dataset pour la modélisation, nous convertirons les variables catégorielles en formats numériques en utilisant l'encodage one-hot.\n"
   ]
  },
  {
   "cell_type": "code",
   "execution_count": null,
   "id": "unsigned-fence",
   "metadata": {},
   "outputs": [],
   "source": []
  },
  {
   "cell_type": "markdown",
   "id": "announced-canadian",
   "metadata": {},
   "source": [
    "## 5. Distribution de la Variable Cible\n",
    "\n",
    "je vais visualiser la distribution de la variable `TARGET`, qui indique si un client est satisfait (0) ou insatisfait (1). Cela nous permettra de vérifier l'équilibre entre les classes.\n"
   ]
  },
  {
   "cell_type": "code",
   "execution_count": 16,
   "id": "built-toronto",
   "metadata": {},
   "outputs": [
    {
     "name": "stderr",
     "output_type": "stream",
     "text": [
      "/Library/Frameworks/Python.framework/Versions/3.6/lib/python3.6/site-packages/seaborn/_decorators.py:43: FutureWarning: Pass the following variable as a keyword arg: x. From version 0.12, the only valid positional argument will be `data`, and passing other arguments without an explicit keyword will result in an error or misinterpretation.\n",
      "  FutureWarning\n"
     ]
    },
    {
     "data": {
      "image/png": "[encoded data removed]",
      "text/plain": [
       "<Figure size 432x288 with 1 Axes>"
      ]
     },
     "metadata": {
      "needs_background": "light"
     },
     "output_type": "display_data"
    }
   ],
   "source": [
    "import matplotlib.pyplot as plt\n",
    "import seaborn as sns\n",
    "\n",
    "plt.figure(figsize=(6,4))\n",
    "sns.countplot(data['TARGET'])\n",
    "plt.title(\"Distribution de la variable cible (satisfaction des clients)\")\n",
    "plt.show()\n"
   ]
  },
  {
   "cell_type": "markdown",
   "id": "arctic-wesley",
   "metadata": {},
   "source": [
    "## 6. Corrélations entre les Variables\n",
    "\n",
    "je vais calculer la corrélation entre les caractéristiques du dataset et la variable `TARGET`. Cela m'aiderai à identifier les variables les plus corrélées avec la satisfaction client.\n"
   ]
  },
  {
   "cell_type": "code",
   "execution_count": 17,
   "id": "enormous-explosion",
   "metadata": {},
   "outputs": [
    {
     "name": "stdout",
     "output_type": "stream",
     "text": [
      "Top 10 des variables les plus corrélées avec TARGET :\n",
      "TARGET                     1.000000\n",
      "var36                      0.102919\n",
      "var15                      0.101322\n",
      "ind_var8_0                 0.046665\n",
      "num_var8_0                 0.046622\n",
      "imp_op_var39_efect_ult1    0.030380\n",
      "imp_op_var41_efect_ult1    0.029479\n",
      "num_var8                   0.027926\n",
      "ind_var8                   0.027926\n",
      "imp_op_var41_ult1          0.027586\n",
      "Name: TARGET, dtype: float64\n",
      "\n",
      "Top 10 des variables les moins corrélées avec TARGET :\n",
      "imp_trasp_var17_out_hace3       NaN\n",
      "imp_trasp_var33_out_hace3       NaN\n",
      "num_var2_0_ult1                 NaN\n",
      "num_var2_ult1                   NaN\n",
      "num_reemb_var13_hace3           NaN\n",
      "num_reemb_var33_hace3           NaN\n",
      "num_trasp_var17_out_hace3       NaN\n",
      "num_trasp_var33_out_hace3       NaN\n",
      "saldo_var2_ult1                 NaN\n",
      "saldo_medio_var13_medio_hace3   NaN\n",
      "Name: TARGET, dtype: float64\n"
     ]
    }
   ],
   "source": [
    "correlation = data.corr()['TARGET'].sort_values(ascending=False)\n",
    "\n",
    "print(\"Top 10 des variables les plus corrélées avec TARGET :\")\n",
    "print(correlation.head(10))\n",
    "\n",
    "print(\"\\nTop 10 des variables les moins corrélées avec TARGET :\")\n",
    "print(correlation.tail(10))\n"
   ]
  },
  {
   "cell_type": "markdown",
   "id": "spatial-moldova",
   "metadata": {},
   "source": [
    "### Rééquilibrage des classes avec SMOTE\n",
    "\n",
    "Pour traiter le déséquilibre significatif entre les classes, nous utiliserons SMOTE pour augmenter la taille de la classe minoritaire en générant des exemples synthétiques.\n"
   ]
  },
  {
   "cell_type": "code",
   "execution_count": 18,
   "id": "liable-township",
   "metadata": {},
   "outputs": [
    {
     "name": "stdout",
     "output_type": "stream",
     "text": [
      "Distribution des classes après SMOTE :\n",
      "1    73012\n",
      "0    73012\n",
      "Name: TARGET, dtype: int64\n"
     ]
    }
   ],
   "source": [
    "from imblearn.over_sampling import SMOTE\n",
    "\n",
    "# Définir les données d'entrée et la cible\n",
    "X = data_cleaned.drop('TARGET', axis=1)\n",
    "y = data_cleaned['TARGET']\n",
    "\n",
    "# Initialisation de SMOTE et rééquilibrage des classes\n",
    "smote = SMOTE(random_state=42)\n",
    "X_res, y_res = smote.fit_resample(X, y)\n",
    "\n",
    "# Vérification de l'équilibre des classes après SMOTE\n",
    "print(\"Distribution des classes après SMOTE :\")\n",
    "print(y_res.value_counts())\n"
   ]
  },
  {
   "cell_type": "code",
   "execution_count": 19,
   "id": "median-transaction",
   "metadata": {},
   "outputs": [
    {
     "name": "stderr",
     "output_type": "stream",
     "text": [
      "/Library/Frameworks/Python.framework/Versions/3.6/lib/python3.6/site-packages/seaborn/_decorators.py:43: FutureWarning: Pass the following variable as a keyword arg: x. From version 0.12, the only valid positional argument will be `data`, and passing other arguments without an explicit keyword will result in an error or misinterpretation.\n",
      "  FutureWarning\n"
     ]
    },
    {
     "data": {
      "image/png": "[encoded data removed]",
      "text/plain": [
       "<Figure size 432x288 with 1 Axes>"
      ]
     },
     "metadata": {
      "needs_background": "light"
     },
     "output_type": "display_data"
    }
   ],
   "source": [
    "plt.figure(figsize=(6,4))\n",
    "sns.countplot(y_res)\n",
    "plt.title(\"Distribution de la variable cible après rééquilibrage avec SMOTE\")\n",
    "plt.show()\n"
   ]
  },
  {
   "cell_type": "markdown",
   "id": "complicated-characterization",
   "metadata": {},
   "source": [
    "### Division du dataset en ensembles d'entraînement et de test\n",
    "\n",
    "Pour évaluer la performance de nos modèles, nous diviserons les données en un ensemble d'entraînement et un ensemble de test. Cela nous permettra de tester la capacité de notre modèle à généraliser à de nouvelles données non vues lors de la formation.\n"
   ]
  },
  {
   "cell_type": "code",
   "execution_count": 20,
   "id": "contemporary-vault",
   "metadata": {},
   "outputs": [
    {
     "name": "stdout",
     "output_type": "stream",
     "text": [
      "Taille de l'ensemble d'entraînement : (102216, 337)\n",
      "Taille de l'ensemble de test : (43808, 337)\n"
     ]
    }
   ],
   "source": [
    "from sklearn.model_selection import train_test_split\n",
    "\n",
    "# Utilisation des données rééquilibrées de SMOTE ou des données originales selon la stratégie choisie\n",
    "X = X_res  # ou X si vous n'avez pas utilisé SMOTE\n",
    "y = y_res  # ou y si vous n'avez pas utilisé SMOTE\n",
    "\n",
    "# Division des données\n",
    "X_train, X_test, y_train, y_test = train_test_split(X, y, test_size=0.3, random_state=42)\n",
    "\n",
    "print(\"Taille de l'ensemble d'entraînement :\", X_train.shape)\n",
    "print(\"Taille de l'ensemble de test :\", X_test.shape)\n"
   ]
  },
  {
   "cell_type": "markdown",
   "id": "fitting-charlotte",
   "metadata": {},
   "source": [
    "### Entraînement du modèle\n",
    "\n",
    "Nous sélectionnerons un modèle adapté pour notre problème de classification binaire et l'entraînerons avec notre ensemble d'entraînement.\n"
   ]
  },
  {
   "cell_type": "code",
   "execution_count": 21,
   "id": "stuffed-survey",
   "metadata": {},
   "outputs": [],
   "source": [
    "from sklearn.ensemble import RandomForestClassifier\n",
    "\n",
    "# Initialisation du modèle\n",
    "model = RandomForestClassifier(random_state=42)\n",
    "\n",
    "# Entraînement du modèle\n",
    "model.fit(X_train, y_train)\n",
    "\n",
    "# Prédiction sur l'ensemble de test pour une évaluation initiale\n",
    "y_pred = model.predict(X_test)\n"
   ]
  },
  {
   "cell_type": "markdown",
   "id": "every-knowing",
   "metadata": {},
   "source": [
    "### Évaluation du modèle\n",
    "\n",
    "Nous évaluerons notre modèle en utilisant plusieurs métriques pour comprendre sa performance sur l'ensemble de test.\n"
   ]
  },
  {
   "cell_type": "code",
   "execution_count": 22,
   "id": "written-garbage",
   "metadata": {},
   "outputs": [
    {
     "name": "stdout",
     "output_type": "stream",
     "text": [
      "Accuracy: 0.9638193937180424\n",
      "Precision: 0.9649170892147458\n",
      "Recall: 0.9627620783956244\n",
      "F1 Score: 0.9638383792293126\n",
      "AUC: 0.9638211343139635\n"
     ]
    }
   ],
   "source": [
    "from sklearn.metrics import accuracy_score, precision_score, recall_score, f1_score, roc_auc_score\n",
    "\n",
    "# Calcul des métriques\n",
    "accuracy = accuracy_score(y_test, y_pred)\n",
    "precision = precision_score(y_test, y_pred)\n",
    "recall = recall_score(y_test, y_pred)\n",
    "f1 = f1_score(y_test, y_pred)\n",
    "auc = roc_auc_score(y_test, y_pred)\n",
    "\n",
    "# Affichage des métriques\n",
    "print(\"Accuracy:\", accuracy)\n",
    "print(\"Precision:\", precision)\n",
    "print(\"Recall:\", recall)\n",
    "print(\"F1 Score:\", f1)\n",
    "print(\"AUC:\", auc)\n"
   ]
  },
  {
   "cell_type": "code",
   "execution_count": null,
   "id": "atomic-hybrid",
   "metadata": {},
   "outputs": [],
   "source": []
  },
  {
   "cell_type": "code",
   "execution_count": 24,
   "id": "positive-decimal",
   "metadata": {},
   "outputs": [],
   "source": [
    "import pickle\n",
    "# Sauvegarder le modèle\n",
    "pickle.dump(model, open('model.pkl', 'wb'))\n"
   ]
  }
 ],
 "metadata": {
  "kernelspec": {
   "display_name": "Python 3",
   "language": "python",
   "name": "python3"
  },
  "language_info": {
   "codemirror_mode": {
    "name": "ipython",
    "version": 3
   },
   "file_extension": ".py",
   "mimetype": "text/x-python",
   "name": "python",
   "nbconvert_exporter": "python",
   "pygments_lexer": "ipython3",
   "version": "3.6.8"
  }
 },
 "nbformat": 4,
 "nbformat_minor": 5
}
